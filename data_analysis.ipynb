{
 "cells": [
  {
   "cell_type": "code",
   "execution_count": 15,
   "id": "acc3999f",
   "metadata": {},
   "outputs": [],
   "source": [
    "import seaborn as sns\n",
    "import pandas as pd\n",
    "\n",
    "#showing grid for better visualization\n",
    "sns.set_style(\"ticks\",{'axes.grid' : True})\n",
    "\n",
    "#image dimensions\n",
    "plt.rcParams['figure.figsize'] = 6, 4"
   ]
  },
  {
   "cell_type": "code",
   "execution_count": 8,
   "id": "5d134c4d",
   "metadata": {},
   "outputs": [
    {
     "name": "stdout",
     "output_type": "stream",
     "text": [
      " \n",
      "    The get_label() function appends the labels to a seaborn plot. Arguments in the following order:\n",
      "    Title, x label, y label\n",
      "    \n",
      " \n",
      "    The plot(kde) function plots the KDE. Inputs are just real and predicted y values, in this order:\n",
      "    y_test, y_test_pred\n",
      "    \n",
      " \n",
      "    The scatter_with_regr() function plots actual vs predicted values with a regression line.\n",
      "    Arguments in the following order:\n",
      "    y_test, y_test_pred\n",
      "    \n",
      " \n",
      "    The plot_residuals() function plots the residuals. Arguments have to be passed in thid order:\n",
      "    y_test, y_test_pred, title, x_label and y_label.\n",
      "    REMEMBER: when invoking the function, y_test e y_test_pred have to be passed\n",
      "    with no quotation marks if are not from\n",
      "    the same dataframe (as usually it is).\n",
      "    Then, pass: title, x_label and y_label (usying quotation marks)\n",
      "    \n"
     ]
    }
   ],
   "source": [
    "from custom_functions.plots import *"
   ]
  },
  {
   "cell_type": "code",
   "execution_count": 3,
   "id": "67c6d0fa",
   "metadata": {},
   "outputs": [
    {
     "data": {
      "text/html": [
       "<div>\n",
       "<style scoped>\n",
       "    .dataframe tbody tr th:only-of-type {\n",
       "        vertical-align: middle;\n",
       "    }\n",
       "\n",
       "    .dataframe tbody tr th {\n",
       "        vertical-align: top;\n",
       "    }\n",
       "\n",
       "    .dataframe thead th {\n",
       "        text-align: right;\n",
       "    }\n",
       "</style>\n",
       "<table border=\"1\" class=\"dataframe\">\n",
       "  <thead>\n",
       "    <tr style=\"text-align: right;\">\n",
       "      <th></th>\n",
       "      <th>Country</th>\n",
       "      <th>Population</th>\n",
       "      <th>Year</th>\n",
       "    </tr>\n",
       "  </thead>\n",
       "  <tbody>\n",
       "    <tr>\n",
       "      <th>0</th>\n",
       "      <td>China</td>\n",
       "      <td>1439323776</td>\n",
       "      <td>2020</td>\n",
       "    </tr>\n",
       "    <tr>\n",
       "      <th>1</th>\n",
       "      <td>China</td>\n",
       "      <td>1433783686</td>\n",
       "      <td>2019</td>\n",
       "    </tr>\n",
       "    <tr>\n",
       "      <th>2</th>\n",
       "      <td>China</td>\n",
       "      <td>1427647786</td>\n",
       "      <td>2018</td>\n",
       "    </tr>\n",
       "    <tr>\n",
       "      <th>3</th>\n",
       "      <td>China</td>\n",
       "      <td>1421021791</td>\n",
       "      <td>2017</td>\n",
       "    </tr>\n",
       "    <tr>\n",
       "      <th>4</th>\n",
       "      <td>China</td>\n",
       "      <td>1414049351</td>\n",
       "      <td>2016</td>\n",
       "    </tr>\n",
       "  </tbody>\n",
       "</table>\n",
       "</div>"
      ],
      "text/plain": [
       "  Country  Population  Year\n",
       "0   China  1439323776  2020\n",
       "1   China  1433783686  2019\n",
       "2   China  1427647786  2018\n",
       "3   China  1421021791  2017\n",
       "4   China  1414049351  2016"
      ]
     },
     "execution_count": 3,
     "metadata": {},
     "output_type": "execute_result"
    }
   ],
   "source": [
    "#importing data, specyfying how are separated (with \";\" as I created the CSV)\n",
    "df = pd.read_csv('recap.csv', sep=';')\n",
    "\n",
    "df.head()"
   ]
  },
  {
   "cell_type": "code",
   "execution_count": 4,
   "id": "f2c7c68a",
   "metadata": {},
   "outputs": [],
   "source": [
    "#filtering for Italy\n",
    "Italy = df[df['Country']=='Italy']"
   ]
  },
  {
   "cell_type": "code",
   "execution_count": 16,
   "id": "22e03dc9",
   "metadata": {},
   "outputs": [
    {
     "data": {
      "image/png": "[encoded data removed]",
      "text/plain": [
       "<Figure size 432x288 with 1 Axes>"
      ]
     },
     "metadata": {},
     "output_type": "display_data"
    }
   ],
   "source": [
    "#creating a scatteplot of the popultion per year for italy\n",
    "sns.scatterplot(data=Italy, x='Year', y='Population')\n",
    "\n",
    "#labeling\n",
    "get_label('POPULATION PER YEAR IN ITALY', 'YEARS', 'POPULATION [10^7]')"
   ]
  },
  {
   "cell_type": "code",
   "execution_count": null,
   "id": "43d7333c",
   "metadata": {},
   "outputs": [],
   "source": []
  }
 ],
 "metadata": {
  "kernelspec": {
   "display_name": "Python 3 (ipykernel)",
   "language": "python",
   "name": "python3"
  },
  "language_info": {
   "codemirror_mode": {
    "name": "ipython",
    "version": 3
   },
   "file_extension": ".py",
   "mimetype": "text/x-python",
   "name": "python",
   "nbconvert_exporter": "python",
   "pygments_lexer": "ipython3",
   "version": "3.7.10"
  },
  "toc": {
   "base_numbering": 1,
   "nav_menu": {},
   "number_sections": true,
   "sideBar": true,
   "skip_h1_title": false,
   "title_cell": "Table of Contents",
   "title_sidebar": "Contents",
   "toc_cell": false,
   "toc_position": {},
   "toc_section_display": true,
   "toc_window_display": false
  }
 },
 "nbformat": 4,
 "nbformat_minor": 5
}
